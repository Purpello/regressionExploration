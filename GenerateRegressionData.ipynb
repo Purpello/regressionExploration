{
 "cells": [
  {
   "cell_type": "code",
   "execution_count": 1,
   "metadata": {},
   "outputs": [],
   "source": [
    "import numpy as np\n",
    "import pandas as pd"
   ]
  },
  {
   "cell_type": "code",
   "execution_count": 2,
   "metadata": {},
   "outputs": [],
   "source": [
    "#Define function to calculate SN Ratio, like in Taguchi style experimentation.  \n",
    "#This will be my output measure for the regression.  The \"target\" in Pycaret terms\n",
    "\n",
    "def sn_ratio_calc(inputs):\n",
    "    #Get numerators for the interactions\n",
    "    num1,num2,num3 = np.log10(inputs[0]),np.log10(inputs[1]),np.log10(inputs[2])\n",
    "    #Add some random noise to the numerators\n",
    "    nums = np.add([num1,num2,num3],np.random.random(3))\n",
    "    #Get the squared reciprocals of the inputs and call that the outputs\n",
    "    #Adjacent terms interact with each other via the nums argument in the numerator.\n",
    "    #There should be 3 two-way interactions.\n",
    "    output = -10 * np.log10(nums[1]/inputs[0]**2 + nums[2]/inputs[1]**2 + nums[0]/inputs[2]**2)\n",
    "    output = np.round(output,1)\n",
    "    \n",
    "    return(output)"
   ]
  },
  {
   "cell_type": "code",
   "execution_count": 3,
   "metadata": {},
   "outputs": [],
   "source": [
    "#Take ranges and generate data for 3 different variables.\n",
    "\n",
    "def gen_data(ranges,iterations,df):\n",
    "    rep = iterations\n",
    "    for i in range(rep):\n",
    "    #Get the number of random ints to sum.\n",
    "        Aint = np.random.randint(ranges[0][0],ranges[0][1])\n",
    "        Bint = np.random.randint(ranges[1][0],ranges[1][1])\n",
    "        Cint = np.random.randint(ranges[2][0],ranges[2][1])\n",
    "        output = sn_ratio_calc([Aint,Bint,Cint])\n",
    "        df['A'][i],df['B'][i],df['C'][i],df['output'][i] = Aint,Bint,Cint,output\n",
    "    return(df)\n"
   ]
  },
  {
   "cell_type": "code",
   "execution_count": 4,
   "metadata": {},
   "outputs": [],
   "source": [
    "ranges = [[20,80],[10,90],[30,70]]\n",
    "iterations = 100 #the number of rows in the data file.\n",
    "df = pd.DataFrame(np.empty((iterations, 4)),columns = ['A','B','C','output'])"
   ]
  },
  {
   "cell_type": "code",
   "execution_count": 13,
   "metadata": {},
   "outputs": [
    {
     "data": {
      "text/html": [
       "<div>\n",
       "<style scoped>\n",
       "    .dataframe tbody tr th:only-of-type {\n",
       "        vertical-align: middle;\n",
       "    }\n",
       "\n",
       "    .dataframe tbody tr th {\n",
       "        vertical-align: top;\n",
       "    }\n",
       "\n",
       "    .dataframe thead th {\n",
       "        text-align: right;\n",
       "    }\n",
       "</style>\n",
       "<table border=\"1\" class=\"dataframe\">\n",
       "  <thead>\n",
       "    <tr style=\"text-align: right;\">\n",
       "      <th></th>\n",
       "      <th>A</th>\n",
       "      <th>B</th>\n",
       "      <th>C</th>\n",
       "      <th>output</th>\n",
       "    </tr>\n",
       "  </thead>\n",
       "  <tbody>\n",
       "    <tr>\n",
       "      <th>0</th>\n",
       "      <td>79.0</td>\n",
       "      <td>27.0</td>\n",
       "      <td>42.0</td>\n",
       "      <td>23.3</td>\n",
       "    </tr>\n",
       "    <tr>\n",
       "      <th>1</th>\n",
       "      <td>64.0</td>\n",
       "      <td>14.0</td>\n",
       "      <td>31.0</td>\n",
       "      <td>20.0</td>\n",
       "    </tr>\n",
       "    <tr>\n",
       "      <th>2</th>\n",
       "      <td>29.0</td>\n",
       "      <td>72.0</td>\n",
       "      <td>53.0</td>\n",
       "      <td>24.6</td>\n",
       "    </tr>\n",
       "    <tr>\n",
       "      <th>3</th>\n",
       "      <td>69.0</td>\n",
       "      <td>15.0</td>\n",
       "      <td>52.0</td>\n",
       "      <td>20.0</td>\n",
       "    </tr>\n",
       "    <tr>\n",
       "      <th>4</th>\n",
       "      <td>69.0</td>\n",
       "      <td>18.0</td>\n",
       "      <td>33.0</td>\n",
       "      <td>19.9</td>\n",
       "    </tr>\n",
       "    <tr>\n",
       "      <th>...</th>\n",
       "      <td>...</td>\n",
       "      <td>...</td>\n",
       "      <td>...</td>\n",
       "      <td>...</td>\n",
       "    </tr>\n",
       "    <tr>\n",
       "      <th>95</th>\n",
       "      <td>36.0</td>\n",
       "      <td>69.0</td>\n",
       "      <td>61.0</td>\n",
       "      <td>26.0</td>\n",
       "    </tr>\n",
       "    <tr>\n",
       "      <th>96</th>\n",
       "      <td>22.0</td>\n",
       "      <td>79.0</td>\n",
       "      <td>51.0</td>\n",
       "      <td>22.1</td>\n",
       "    </tr>\n",
       "    <tr>\n",
       "      <th>97</th>\n",
       "      <td>58.0</td>\n",
       "      <td>14.0</td>\n",
       "      <td>48.0</td>\n",
       "      <td>19.2</td>\n",
       "    </tr>\n",
       "    <tr>\n",
       "      <th>98</th>\n",
       "      <td>64.0</td>\n",
       "      <td>17.0</td>\n",
       "      <td>52.0</td>\n",
       "      <td>21.2</td>\n",
       "    </tr>\n",
       "    <tr>\n",
       "      <th>99</th>\n",
       "      <td>40.0</td>\n",
       "      <td>83.0</td>\n",
       "      <td>37.0</td>\n",
       "      <td>25.2</td>\n",
       "    </tr>\n",
       "  </tbody>\n",
       "</table>\n",
       "<p>100 rows × 4 columns</p>\n",
       "</div>"
      ],
      "text/plain": [
       "       A     B     C  output\n",
       "0   79.0  27.0  42.0    23.3\n",
       "1   64.0  14.0  31.0    20.0\n",
       "2   29.0  72.0  53.0    24.6\n",
       "3   69.0  15.0  52.0    20.0\n",
       "4   69.0  18.0  33.0    19.9\n",
       "..   ...   ...   ...     ...\n",
       "95  36.0  69.0  61.0    26.0\n",
       "96  22.0  79.0  51.0    22.1\n",
       "97  58.0  14.0  48.0    19.2\n",
       "98  64.0  17.0  52.0    21.2\n",
       "99  40.0  83.0  37.0    25.2\n",
       "\n",
       "[100 rows x 4 columns]"
      ]
     },
     "execution_count": 13,
     "metadata": {},
     "output_type": "execute_result"
    }
   ],
   "source": [
    "df"
   ]
  },
  {
   "cell_type": "code",
   "execution_count": 12,
   "metadata": {},
   "outputs": [],
   "source": [
    "df = gen_data(ranges,iterations,df)"
   ]
  },
  {
   "cell_type": "code",
   "execution_count": 14,
   "metadata": {},
   "outputs": [],
   "source": [
    "df.to_csv('regdata2.csv')"
   ]
  },
  {
   "cell_type": "code",
   "execution_count": 12,
   "metadata": {},
   "outputs": [
    {
     "data": {
      "text/plain": [
       "23.240893688556877"
      ]
     },
     "execution_count": 12,
     "metadata": {},
     "output_type": "execute_result"
    }
   ],
   "source": [
    "-10 * np.log10( (np.log10(270) + 0.5)/79**2 + (np.log10(42) + 0.5)/27**2 + (np.log10(79) + 0.5)/42**2 )"
   ]
  },
  {
   "cell_type": "code",
   "execution_count": 11,
   "metadata": {},
   "outputs": [
    {
     "data": {
      "text/plain": [
       "-2.67801523201499"
      ]
     },
     "execution_count": 11,
     "metadata": {},
     "output_type": "execute_result"
    }
   ],
   "source": [
    "np.log10( (1)/79**2 + (1)/27**2 + (1)/42**2 )"
   ]
  },
  {
   "cell_type": "code",
   "execution_count": 35,
   "metadata": {},
   "outputs": [],
   "source": [
    "x = round(-10 * np.log10( (np.log10(50) + 0.5)/50**2 + (np.log10(50) + 0.5)/50**2 + (np.log10(50) + 0.5)/50**2 ),1)"
   ]
  },
  {
   "cell_type": "code",
   "execution_count": 36,
   "metadata": {},
   "outputs": [],
   "source": [
    "y = round(-10 * np.log10( (np.log10(50) + 0.5)/60**2 + (np.log10(50) + 0.5)/50**2 + (np.log10(50) + 0.5)/50**2 ),1)"
   ]
  },
  {
   "cell_type": "code",
   "execution_count": 37,
   "metadata": {},
   "outputs": [
    {
     "name": "stdout",
     "output_type": "stream",
     "text": [
      "1.41161970596323 1.4199557484897578 0.5870635430289872\n"
     ]
    }
   ],
   "source": [
    "print(np.log10(x),np.log10(y),100*(1-np.log10(x)/np.log10(y)))"
   ]
  },
  {
   "cell_type": "code",
   "execution_count": 33,
   "metadata": {},
   "outputs": [
    {
     "data": {
      "text/plain": [
       "0.003875968992248062"
      ]
     },
     "execution_count": 33,
     "metadata": {},
     "output_type": "execute_result"
    }
   ],
   "source": [
    ".1/25.8"
   ]
  },
  {
   "cell_type": "code",
   "execution_count": 38,
   "metadata": {},
   "outputs": [
    {
     "data": {
      "text/plain": [
       "1.6989700043360187"
      ]
     },
     "execution_count": 38,
     "metadata": {},
     "output_type": "execute_result"
    }
   ],
   "source": [
    "np.log10(50)"
   ]
  },
  {
   "cell_type": "code",
   "execution_count": null,
   "metadata": {},
   "outputs": [],
   "source": []
  }
 ],
 "metadata": {
  "kernelspec": {
   "display_name": "Python 3 (ipykernel)",
   "language": "python",
   "name": "python3"
  },
  "language_info": {
   "codemirror_mode": {
    "name": "ipython",
    "version": 3
   },
   "file_extension": ".py",
   "mimetype": "text/x-python",
   "name": "python",
   "nbconvert_exporter": "python",
   "pygments_lexer": "ipython3",
   "version": "3.10.4"
  }
 },
 "nbformat": 4,
 "nbformat_minor": 4
}
